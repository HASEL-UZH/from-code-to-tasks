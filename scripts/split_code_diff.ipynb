{
 "cells": [
  {
   "cell_type": "code",
   "execution_count": 1,
   "id": "initial_id",
   "metadata": {
    "collapsed": true,
    "ExecuteTime": {
     "end_time": "2023-09-19T08:51:19.639908Z",
     "start_time": "2023-09-19T08:51:19.637355Z"
    }
   },
   "outputs": [],
   "source": [
    "def get_added_deleted_lines():\n",
    "    added_lines = \"\"\n",
    "    deleted_lines = \"\"\n",
    "\n",
    "    #TODO remove\n",
    "    diff_file = '../data_collection/commit_data/commit_0b042dad43b7065c12f38980c90a0ad6bb823ccc/Commandbanip.java.diff'\n",
    "\n",
    "    with open(diff_file, 'r') as f:\n",
    "        for line in f:\n",
    "            if line.startswith('+'):\n",
    "                added_lines += line[1:].strip() + '\\n'\n",
    "            elif line.startswith('-'):\n",
    "                deleted_lines += line[1:].strip() + '\\n'\n",
    "    return added_lines, deleted_lines"
   ]
  },
  {
   "cell_type": "code",
   "execution_count": 2,
   "outputs": [
    {
     "name": "stdout",
     "output_type": "stream",
     "text": [
      "ess.broadcastMessage(\"essentials.banip.notify\", tl(\"playerBanIpAddress\", senderName, ipAddress, banReason));\n",
      "\n",
      "ess.broadcastMessage(\"essentials.ban.notify\", tl(\"playerBanIpAddress\", senderName, ipAddress, banReason));\n"
     ]
    }
   ],
   "source": [
    "added_lines, deleted_lines = get_added_deleted_lines()\n",
    "print(added_lines)\n",
    "print(deleted_lines)"
   ],
   "metadata": {
    "collapsed": false,
    "ExecuteTime": {
     "end_time": "2023-09-19T08:51:19.644334Z",
     "start_time": "2023-09-19T08:51:19.641237Z"
    }
   },
   "id": "45a5b9bf4af34875"
  }
 ],
 "metadata": {
  "kernelspec": {
   "display_name": "Python 3",
   "language": "python",
   "name": "python3"
  },
  "language_info": {
   "codemirror_mode": {
    "name": "ipython",
    "version": 2
   },
   "file_extension": ".py",
   "mimetype": "text/x-python",
   "name": "python",
   "nbconvert_exporter": "python",
   "pygments_lexer": "ipython2",
   "version": "2.7.6"
  }
 },
 "nbformat": 4,
 "nbformat_minor": 5
}
