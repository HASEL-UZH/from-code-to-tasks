{
 "cells": [
  {
   "cell_type": "markdown",
   "source": [
    "# Setup\n",
    "Description\n"
   ],
   "metadata": {
    "collapsed": false
   },
   "id": "28e8606ec7f8a7e6"
  },
  {
   "cell_type": "code",
   "execution_count": 35,
   "outputs": [
    {
     "data": {
      "text/plain": "array([2, 4, 6])"
     },
     "execution_count": 35,
     "metadata": {},
     "output_type": "execute_result"
    }
   ],
   "source": [
    "import numpy as np\n",
    "\n",
    "arr = np.array([1,2,3])\n",
    "arr = arr * 2\n",
    "\n",
    "arr"
   ],
   "metadata": {
    "collapsed": false,
    "ExecuteTime": {
     "start_time": "2023-08-11T12:44:39.149378Z"
    }
   },
   "id": "initial_id"
  },
  {
   "cell_type": "code",
   "execution_count": 36,
   "outputs": [
    {
     "data": {
      "text/plain": "array([2, 4, 6])"
     },
     "execution_count": 36,
     "metadata": {},
     "output_type": "execute_result"
    }
   ],
   "source": [
    "arr"
   ],
   "metadata": {
    "collapsed": false,
    "ExecuteTime": {
     "start_time": "2023-08-11T12:44:41.668378Z"
    }
   },
   "id": "840ae697e5b61500"
  },
  {
   "cell_type": "markdown",
   "source": [
    "# Github Retrival"
   ],
   "metadata": {
    "collapsed": false
   },
   "id": "dd9bc8c0732e946"
  },
  {
   "cell_type": "code",
   "execution_count": 37,
   "outputs": [
    {
     "data": {
      "text/plain": "array([ 4,  8, 12])"
     },
     "execution_count": 37,
     "metadata": {},
     "output_type": "execute_result"
    }
   ],
   "source": [
    "arr = arr * 2\n",
    "\n",
    "arr"
   ],
   "metadata": {
    "collapsed": false,
    "ExecuteTime": {
     "start_time": "2023-08-11T12:44:42.144827Z"
    }
   },
   "id": "aed9d5bcf7253179"
  },
  {
   "cell_type": "code",
   "execution_count": 38,
   "outputs": [
    {
     "data": {
      "text/plain": "array([ 4,  8, 12])"
     },
     "execution_count": 38,
     "metadata": {},
     "output_type": "execute_result"
    }
   ],
   "source": [
    "arr = arr[-3:]\n",
    "\n",
    "arr"
   ],
   "metadata": {
    "collapsed": false,
    "ExecuteTime": {
     "start_time": "2023-08-11T12:44:42.594441Z"
    }
   },
   "id": "635b721a2ea87eb1"
  },
  {
   "cell_type": "code",
   "execution_count": 39,
   "outputs": [
    {
     "data": {
      "text/plain": "        num_legs  num_wings  num_specimen_seen\nfalcon         2          2                 10\ndog            4          0                  2\nspider         8          0                  1\nfish           0          0                  8",
      "text/html": "<div>\n<style scoped>\n    .dataframe tbody tr th:only-of-type {\n        vertical-align: middle;\n    }\n\n    .dataframe tbody tr th {\n        vertical-align: top;\n    }\n\n    .dataframe thead th {\n        text-align: right;\n    }\n</style>\n<table border=\"1\" class=\"dataframe\">\n  <thead>\n    <tr style=\"text-align: right;\">\n      <th></th>\n      <th>num_legs</th>\n      <th>num_wings</th>\n      <th>num_specimen_seen</th>\n    </tr>\n  </thead>\n  <tbody>\n    <tr>\n      <th>falcon</th>\n      <td>2</td>\n      <td>2</td>\n      <td>10</td>\n    </tr>\n    <tr>\n      <th>dog</th>\n      <td>4</td>\n      <td>0</td>\n      <td>2</td>\n    </tr>\n    <tr>\n      <th>spider</th>\n      <td>8</td>\n      <td>0</td>\n      <td>1</td>\n    </tr>\n    <tr>\n      <th>fish</th>\n      <td>0</td>\n      <td>0</td>\n      <td>8</td>\n    </tr>\n  </tbody>\n</table>\n</div>"
     },
     "execution_count": 39,
     "metadata": {},
     "output_type": "execute_result"
    }
   ],
   "source": [
    "import pandas as pd\n",
    "\n",
    "df = pd.DataFrame({'num_legs': [2, 4, 8, 0],\n",
    "                    'num_wings': [2, 0, 0, 0],\n",
    "                'num_specimen_seen': [10, 2, 1, 8]},\n",
    "               index=['falcon', 'dog', 'spider', 'fish'])\n",
    "\n",
    "df"
   ],
   "metadata": {
    "collapsed": false,
    "ExecuteTime": {
     "start_time": "2023-08-11T12:44:43.029936Z"
    }
   },
   "id": "ae962838b3c09287"
  },
  {
   "cell_type": "code",
   "execution_count": 40,
   "outputs": [
    {
     "data": {
      "text/plain": "        num_legs  num_wings  num_specimen_seen\nfalcon         2          2                 10\ndog            4          0                  2\nspider         8          0                  1\nfish           0          0                  8",
      "text/html": "<div>\n<style scoped>\n    .dataframe tbody tr th:only-of-type {\n        vertical-align: middle;\n    }\n\n    .dataframe tbody tr th {\n        vertical-align: top;\n    }\n\n    .dataframe thead th {\n        text-align: right;\n    }\n</style>\n<table border=\"1\" class=\"dataframe\">\n  <thead>\n    <tr style=\"text-align: right;\">\n      <th></th>\n      <th>num_legs</th>\n      <th>num_wings</th>\n      <th>num_specimen_seen</th>\n    </tr>\n  </thead>\n  <tbody>\n    <tr>\n      <th>falcon</th>\n      <td>2</td>\n      <td>2</td>\n      <td>10</td>\n    </tr>\n    <tr>\n      <th>dog</th>\n      <td>4</td>\n      <td>0</td>\n      <td>2</td>\n    </tr>\n    <tr>\n      <th>spider</th>\n      <td>8</td>\n      <td>0</td>\n      <td>1</td>\n    </tr>\n    <tr>\n      <th>fish</th>\n      <td>0</td>\n      <td>0</td>\n      <td>8</td>\n    </tr>\n  </tbody>\n</table>\n</div>"
     },
     "execution_count": 40,
     "metadata": {},
     "output_type": "execute_result"
    }
   ],
   "source": [
    "\n",
    "\n",
    "df"
   ],
   "metadata": {
    "collapsed": false,
    "ExecuteTime": {
     "end_time": "2023-08-11T12:44:43.784364Z",
     "start_time": "2023-08-11T12:44:43.773788Z"
    }
   },
   "id": "d1457d03a4b9445"
  },
  {
   "cell_type": "code",
   "execution_count": null,
   "outputs": [],
   "source": [],
   "metadata": {
    "collapsed": false
   },
   "id": "f742c03dc02915d7"
  }
 ],
 "metadata": {
  "kernelspec": {
   "display_name": "Python 3",
   "language": "python",
   "name": "python3"
  },
  "language_info": {
   "codemirror_mode": {
    "name": "ipython",
    "version": 2
   },
   "file_extension": ".py",
   "mimetype": "text/x-python",
   "name": "python",
   "nbconvert_exporter": "python",
   "pygments_lexer": "ipython2",
   "version": "2.7.6"
  }
 },
 "nbformat": 4,
 "nbformat_minor": 5
}
